{
 "cells": [
  {
   "cell_type": "code",
   "execution_count": 1,
   "id": "b5390259",
   "metadata": {
    "_cell_guid": "b1076dfc-b9ad-4769-8c92-a6c4dae69d19",
    "_uuid": "8f2839f25d086af736a60e9eeb907d3b93b6e0e5",
    "execution": {
     "iopub.execute_input": "2024-09-09T14:21:10.637922Z",
     "iopub.status.busy": "2024-09-09T14:21:10.636804Z",
     "iopub.status.idle": "2024-09-09T14:21:11.097716Z",
     "shell.execute_reply": "2024-09-09T14:21:11.096236Z"
    },
    "papermill": {
     "duration": 0.480269,
     "end_time": "2024-09-09T14:21:11.100480",
     "exception": false,
     "start_time": "2024-09-09T14:21:10.620211",
     "status": "completed"
    },
    "tags": []
   },
   "outputs": [
    {
     "name": "stdout",
     "output_type": "stream",
     "text": [
      "/kaggle/input/buyers-time-prediction-challenge/ParticipantData_BTPC/Sample Submission.csv\n",
      "/kaggle/input/buyers-time-prediction-challenge/ParticipantData_BTPC/Train.csv\n",
      "/kaggle/input/buyers-time-prediction-challenge/ParticipantData_BTPC/Test.csv\n"
     ]
    }
   ],
   "source": [
    "# This Python 3 environment comes with many helpful analytics libraries installed\n",
    "# It is defined by the kaggle/python Docker image: https://github.com/kaggle/docker-python\n",
    "# For example, here's several helpful packages to load\n",
    "\n",
    "import numpy as np # linear algebra\n",
    "import pandas as pd # data processing, CSV file I/O (e.g. pd.read_csv)\n",
    "\n",
    "# Input data files are available in the read-only \"../input/\" directory\n",
    "# For example, running this (by clicking run or pressing Shift+Enter) will list all files under the input directory\n",
    "\n",
    "import os\n",
    "for dirname, _, filenames in os.walk('/kaggle/input'):\n",
    "    for filename in filenames:\n",
    "        print(os.path.join(dirname, filename))\n",
    "\n",
    "# You can write up to 20GB to the current directory (/kaggle/working/) that gets preserved as output when you create a version using \"Save & Run All\" \n",
    "# You can also write temporary files to /kaggle/temp/, but they won't be saved outside of the current session"
   ]
  },
  {
   "cell_type": "code",
   "execution_count": 2,
   "id": "ff2da7ee",
   "metadata": {
    "execution": {
     "iopub.execute_input": "2024-09-09T14:21:11.125683Z",
     "iopub.status.busy": "2024-09-09T14:21:11.125102Z",
     "iopub.status.idle": "2024-09-09T14:21:15.276845Z",
     "shell.execute_reply": "2024-09-09T14:21:15.275473Z"
    },
    "papermill": {
     "duration": 4.167652,
     "end_time": "2024-09-09T14:21:15.279956",
     "exception": false,
     "start_time": "2024-09-09T14:21:11.112304",
     "status": "completed"
    },
    "tags": []
   },
   "outputs": [],
   "source": [
    "from sklearn.model_selection import train_test_split\n",
    "import lightgbm as lgb\n",
    "import pandas as pd\n",
    "import re\n",
    "import gc\n",
    "import numpy as np\n",
    "import math\n",
    "import catboost as cb\n",
    "import seaborn as sns\n",
    "from sklearn.ensemble import RandomForestRegressor\n",
    "from xgboost import XGBRegressor\n",
    "from lightgbm import LGBMRegressor\n",
    "from sklearn.metrics import r2_score,mean_squared_error,mean_squared_log_error,make_scorer\n",
    "from sklearn.pipeline import make_pipeline\n",
    "from sklearn.model_selection import train_test_split,KFold,cross_val_score,GridSearchCV,RandomizedSearchCV\n",
    "from sklearn.ensemble import AdaBoostRegressor,GradientBoostingRegressor\n",
    "from sklearn.tree import DecisionTreeRegressor\n",
    "from sklearn.linear_model import LinearRegression,Lasso,Ridge,RidgeCV,BayesianRidge\n",
    "from xgboost import XGBRegressor\n",
    "from lightgbm import LGBMRegressor\n",
    "import math\n",
    "from sklearn.metrics import mean_squared_log_error\n",
    "from sklearn.preprocessing import LabelEncoder\n",
    "from wordcloud import WordCloud, STOPWORDS\n",
    "stopwords1 = set(STOPWORDS)\n",
    "import matplotlib.pyplot as plt\n",
    "from sklearn.utils import shuffle\n",
    "from sklearn.feature_extraction.text import CountVectorizer,TfidfVectorizer\n",
    "from scipy.sparse import csr_matrix\n",
    "from scipy import sparse\n",
    "import scipy\n",
    "from sklearn.linear_model import Ridge\n",
    "%matplotlib inline"
   ]
  },
  {
   "cell_type": "code",
   "execution_count": 3,
   "id": "2d3d9b84",
   "metadata": {
    "execution": {
     "iopub.execute_input": "2024-09-09T14:21:15.305599Z",
     "iopub.status.busy": "2024-09-09T14:21:15.304900Z",
     "iopub.status.idle": "2024-09-09T14:21:15.370685Z",
     "shell.execute_reply": "2024-09-09T14:21:15.369409Z"
    },
    "papermill": {
     "duration": 0.08194,
     "end_time": "2024-09-09T14:21:15.373541",
     "exception": false,
     "start_time": "2024-09-09T14:21:15.291601",
     "status": "completed"
    },
    "tags": []
   },
   "outputs": [],
   "source": [
    "train = pd.read_csv(\"/kaggle/input/buyers-time-prediction-challenge/ParticipantData_BTPC/Train.csv\")\n",
    "test = pd.read_csv(\"/kaggle/input/buyers-time-prediction-challenge/ParticipantData_BTPC/Test.csv\")\n",
    "sample = pd.read_csv(\"/kaggle/input/buyers-time-prediction-challenge/ParticipantData_BTPC/Sample Submission.csv\")"
   ]
  },
  {
   "cell_type": "code",
   "execution_count": 4,
   "id": "014157c2",
   "metadata": {
    "execution": {
     "iopub.execute_input": "2024-09-09T14:21:15.399030Z",
     "iopub.status.busy": "2024-09-09T14:21:15.397976Z",
     "iopub.status.idle": "2024-09-09T14:21:15.407096Z",
     "shell.execute_reply": "2024-09-09T14:21:15.405846Z"
    },
    "papermill": {
     "duration": 0.024517,
     "end_time": "2024-09-09T14:21:15.409715",
     "exception": false,
     "start_time": "2024-09-09T14:21:15.385198",
     "status": "completed"
    },
    "tags": []
   },
   "outputs": [
    {
     "data": {
      "text/plain": [
       "((5429, 9), (2327, 8))"
      ]
     },
     "execution_count": 4,
     "metadata": {},
     "output_type": "execute_result"
    }
   ],
   "source": [
    "train.shape,test.shape"
   ]
  },
  {
   "cell_type": "code",
   "execution_count": 5,
   "id": "e803e7bd",
   "metadata": {
    "execution": {
     "iopub.execute_input": "2024-09-09T14:21:15.435214Z",
     "iopub.status.busy": "2024-09-09T14:21:15.434706Z",
     "iopub.status.idle": "2024-09-09T14:21:15.469403Z",
     "shell.execute_reply": "2024-09-09T14:21:15.468111Z"
    },
    "papermill": {
     "duration": 0.050885,
     "end_time": "2024-09-09T14:21:15.472244",
     "exception": false,
     "start_time": "2024-09-09T14:21:15.421359",
     "status": "completed"
    },
    "tags": []
   },
   "outputs": [],
   "source": [
    "dataset = pd.concat([train ,test])\n",
    "dataset = dataset.reset_index(drop=True)\n",
    "dataset = dataset.sort_values(by=['session_id'])"
   ]
  },
  {
   "cell_type": "code",
   "execution_count": 6,
   "id": "2761b70d",
   "metadata": {
    "execution": {
     "iopub.execute_input": "2024-09-09T14:21:15.497660Z",
     "iopub.status.busy": "2024-09-09T14:21:15.497196Z",
     "iopub.status.idle": "2024-09-09T14:21:15.505032Z",
     "shell.execute_reply": "2024-09-09T14:21:15.503821Z"
    },
    "papermill": {
     "duration": 0.023399,
     "end_time": "2024-09-09T14:21:15.507594",
     "exception": false,
     "start_time": "2024-09-09T14:21:15.484195",
     "status": "completed"
    },
    "tags": []
   },
   "outputs": [
    {
     "data": {
      "text/plain": [
       "'Mozilla/5.0 (Windows NT 6.1; WOW64) AppleWebKit/537.36 (KHTML, like Gecko) Chrome/40.0.2214.111 Safari/537.36'"
      ]
     },
     "execution_count": 6,
     "metadata": {},
     "output_type": "execute_result"
    }
   ],
   "source": [
    "train['client_agent'][0]"
   ]
  },
  {
   "cell_type": "code",
   "execution_count": 7,
   "id": "87c7e068",
   "metadata": {
    "execution": {
     "iopub.execute_input": "2024-09-09T14:21:15.533085Z",
     "iopub.status.busy": "2024-09-09T14:21:15.532626Z",
     "iopub.status.idle": "2024-09-09T14:21:15.589124Z",
     "shell.execute_reply": "2024-09-09T14:21:15.587756Z"
    },
    "papermill": {
     "duration": 0.072434,
     "end_time": "2024-09-09T14:21:15.592118",
     "exception": false,
     "start_time": "2024-09-09T14:21:15.519684",
     "status": "completed"
    },
    "tags": []
   },
   "outputs": [],
   "source": [
    "dataset[\"browser_version\"] =dataset[\"client_agent\"].str.split(\"/\",expand=True)[1].str.split(\" \",expand=True)[0]"
   ]
  },
  {
   "cell_type": "code",
   "execution_count": 8,
   "id": "515f1cd1",
   "metadata": {
    "execution": {
     "iopub.execute_input": "2024-09-09T14:21:15.617513Z",
     "iopub.status.busy": "2024-09-09T14:21:15.617056Z",
     "iopub.status.idle": "2024-09-09T14:21:15.641779Z",
     "shell.execute_reply": "2024-09-09T14:21:15.640719Z"
    },
    "papermill": {
     "duration": 0.04058,
     "end_time": "2024-09-09T14:21:15.644475",
     "exception": false,
     "start_time": "2024-09-09T14:21:15.603895",
     "status": "completed"
    },
    "tags": []
   },
   "outputs": [],
   "source": [
    "dataset [[\"device\",\"browser\"]] =dataset[\"device_details\"].str.split(pat=\" - \",expand=True)"
   ]
  },
  {
   "cell_type": "code",
   "execution_count": 9,
   "id": "1e9a61bb",
   "metadata": {
    "execution": {
     "iopub.execute_input": "2024-09-09T14:21:15.672589Z",
     "iopub.status.busy": "2024-09-09T14:21:15.672123Z",
     "iopub.status.idle": "2024-09-09T14:21:15.707580Z",
     "shell.execute_reply": "2024-09-09T14:21:15.706357Z"
    },
    "papermill": {
     "duration": 0.052355,
     "end_time": "2024-09-09T14:21:15.710711",
     "exception": false,
     "start_time": "2024-09-09T14:21:15.658356",
     "status": "completed"
    },
    "tags": []
   },
   "outputs": [],
   "source": [
    "handheld = [int(i in [\"iPhone\",\"Android Phone\",\"Android Tablet\",\"iPad\"]) for i in dataset [\"device\"]]\n",
    "dataset [\"hand_held\"] = pd.Series(handheld)\n",
    "\n",
    "desktop = [int(i == \"Desktop\") for i in dataset [\"device\"]]\n",
    "dataset [\"desktop\"] = pd.Series(desktop)\n",
    "\n",
    "others = [int(i in [\"Other\",\"Unknown\"]) for i in dataset[\"device\"]]\n",
    "dataset[\"others\"] = pd.Series(others)"
   ]
  },
  {
   "cell_type": "code",
   "execution_count": 10,
   "id": "5c72197e",
   "metadata": {
    "execution": {
     "iopub.execute_input": "2024-09-09T14:21:15.736084Z",
     "iopub.status.busy": "2024-09-09T14:21:15.735616Z",
     "iopub.status.idle": "2024-09-09T14:21:15.761760Z",
     "shell.execute_reply": "2024-09-09T14:21:15.760598Z"
    },
    "papermill": {
     "duration": 0.042097,
     "end_time": "2024-09-09T14:21:15.764542",
     "exception": false,
     "start_time": "2024-09-09T14:21:15.722445",
     "status": "completed"
    },
    "tags": []
   },
   "outputs": [],
   "source": [
    "dataset['date']= pd.to_datetime(dataset['date'])\n",
    "\n",
    "dataset[\"month\"] = dataset['date'].dt.month\n",
    "dataset[\"year\"] = dataset['date'].dt.year\n",
    "dataset[\"week\"] = dataset['date'].dt.isocalendar().week\n",
    "dataset[\"dayOfWeek\"] = dataset['date'].dt.dayofweek\n",
    "dataset[\"day\"] = dataset[\"date\"].dt.day"
   ]
  },
  {
   "cell_type": "code",
   "execution_count": 11,
   "id": "dab6766d",
   "metadata": {
    "execution": {
     "iopub.execute_input": "2024-09-09T14:21:15.789623Z",
     "iopub.status.busy": "2024-09-09T14:21:15.789171Z",
     "iopub.status.idle": "2024-09-09T14:21:15.821741Z",
     "shell.execute_reply": "2024-09-09T14:21:15.820590Z"
    },
    "papermill": {
     "duration": 0.04838,
     "end_time": "2024-09-09T14:21:15.824584",
     "exception": false,
     "start_time": "2024-09-09T14:21:15.776204",
     "status": "completed"
    },
    "tags": []
   },
   "outputs": [],
   "source": [
    "dataset[\"dailyTraffic\"] = dataset.groupby(\"date\")[\"session_id\"].transform(\"count\")\n",
    "dataset[\"dailyTrafficPerDevice\"] = dataset.groupby([\"date\",\"device\"])[\"session_id\"].transform(\"count\")\n",
    "dataset[\"dailyTrafficPerbrowser\"] = dataset.groupby([\"date\",\"browser\"])[\"session_id\"].transform(\"count\")\n",
    "\n",
    "\n",
    "dataset[\"dailyAverageTime\"] = dataset.groupby(\"date\")[\"time_spent\"].transform(\"mean\")\n",
    "dataset[\"meanTimePerDevice\"] = dataset.groupby(\"device\")[\"time_spent\"].transform(\"mean\")\n",
    "dataset[\"meanTimePerBrowser\"] = dataset.groupby(\"browser\")[\"time_spent\"].transform(\"mean\")"
   ]
  },
  {
   "cell_type": "code",
   "execution_count": 12,
   "id": "cad2f8c8",
   "metadata": {
    "execution": {
     "iopub.execute_input": "2024-09-09T14:21:15.850496Z",
     "iopub.status.busy": "2024-09-09T14:21:15.850045Z",
     "iopub.status.idle": "2024-09-09T14:21:15.868955Z",
     "shell.execute_reply": "2024-09-09T14:21:15.867695Z"
    },
    "papermill": {
     "duration": 0.035348,
     "end_time": "2024-09-09T14:21:15.871772",
     "exception": false,
     "start_time": "2024-09-09T14:21:15.836424",
     "status": "completed"
    },
    "tags": []
   },
   "outputs": [
    {
     "name": "stderr",
     "output_type": "stream",
     "text": [
      "/tmp/ipykernel_17/2519709877.py:1: FutureWarning: Downcasting behavior in `replace` is deprecated and will be removed in a future version. To retain the old behavior, explicitly call `result.infer_objects(copy=False)`. To opt-in to the future behavior, set `pd.set_option('future.no_silent_downcasting', True)`\n",
      "  dataset[\"device_num\"] = dataset[\"device\"].replace({\"Other\": 1, \"Unknown\": 1,\n"
     ]
    }
   ],
   "source": [
    "dataset[\"device_num\"] = dataset[\"device\"].replace({\"Other\": 1, \"Unknown\": 1, \n",
    "                         \"Android Tablet\":2,\n",
    "                        \"iPhone\":3,\n",
    "                        \"Android Phone\":4,\n",
    "                        \"iPad\":5, \"Desktop\":5})"
   ]
  },
  {
   "cell_type": "code",
   "execution_count": 13,
   "id": "74c1786f",
   "metadata": {
    "execution": {
     "iopub.execute_input": "2024-09-09T14:21:15.897015Z",
     "iopub.status.busy": "2024-09-09T14:21:15.896530Z",
     "iopub.status.idle": "2024-09-09T14:21:15.904789Z",
     "shell.execute_reply": "2024-09-09T14:21:15.903643Z"
    },
    "papermill": {
     "duration": 0.024233,
     "end_time": "2024-09-09T14:21:15.907715",
     "exception": false,
     "start_time": "2024-09-09T14:21:15.883482",
     "status": "completed"
    },
    "tags": []
   },
   "outputs": [],
   "source": [
    "dataset[\"browser_version\"] = dataset[\"browser_version\"].fillna('n/a')"
   ]
  },
  {
   "cell_type": "code",
   "execution_count": null,
   "id": "68b3786b",
   "metadata": {
    "papermill": {
     "duration": 0.011591,
     "end_time": "2024-09-09T14:21:15.931362",
     "exception": false,
     "start_time": "2024-09-09T14:21:15.919771",
     "status": "completed"
    },
    "tags": []
   },
   "outputs": [],
   "source": []
  },
  {
   "cell_type": "code",
   "execution_count": 14,
   "id": "1d542579",
   "metadata": {
    "execution": {
     "iopub.execute_input": "2024-09-09T14:21:15.957162Z",
     "iopub.status.busy": "2024-09-09T14:21:15.956690Z",
     "iopub.status.idle": "2024-09-09T14:21:15.983829Z",
     "shell.execute_reply": "2024-09-09T14:21:15.982749Z"
    },
    "papermill": {
     "duration": 0.043186,
     "end_time": "2024-09-09T14:21:15.986478",
     "exception": false,
     "start_time": "2024-09-09T14:21:15.943292",
     "status": "completed"
    },
    "tags": []
   },
   "outputs": [],
   "source": [
    "dataset=pd.get_dummies(dataset,columns=['device_num','browser_version'],drop_first=True)"
   ]
  },
  {
   "cell_type": "code",
   "execution_count": 15,
   "id": "79710a0a",
   "metadata": {
    "execution": {
     "iopub.execute_input": "2024-09-09T14:21:16.011535Z",
     "iopub.status.busy": "2024-09-09T14:21:16.011067Z",
     "iopub.status.idle": "2024-09-09T14:21:16.021873Z",
     "shell.execute_reply": "2024-09-09T14:21:16.020472Z"
    },
    "papermill": {
     "duration": 0.026293,
     "end_time": "2024-09-09T14:21:16.024457",
     "exception": false,
     "start_time": "2024-09-09T14:21:15.998164",
     "status": "completed"
    },
    "tags": []
   },
   "outputs": [
    {
     "data": {
      "text/plain": [
       "['browser_version_5.0',\n",
       " 'browser_version_4.4.1',\n",
       " 'device_num_5',\n",
       " 'browser_version_2.1.0',\n",
       " 'browser_version_4.6.0',\n",
       " 'dailyTrafficPerDevice',\n",
       " 'browser_version_6533.21.1',\n",
       " 'browser_version_160391',\n",
       " 'browser_version_150264',\n",
       " 'browser_version_4.7.0',\n",
       " 'browser_version_150302',\n",
       " 'device_num_4',\n",
       " 'browser_version_319',\n",
       " 'browser_version_160341',\n",
       " 'browser_version_160355',\n",
       " 'browser_version_3.1.0',\n",
       " 'browser_version_2.5.1',\n",
       " 'checked_out',\n",
       " 'device_num_3',\n",
       " 'browser_version_160320',\n",
       " 'browser_version_160399',\n",
       " 'browser_version_4.5.1',\n",
       " 'week',\n",
       " 'browser_version_160314',\n",
       " 'session_number',\n",
       " 'browser_version_160360',\n",
       " 'browser_version_160418',\n",
       " 'browser_version_4.3.3',\n",
       " 'browser_version_150259',\n",
       " 'browser_version_160432',\n",
       " 'browser_version_160375',\n",
       " 'month',\n",
       " 'dayOfWeek',\n",
       " 'browser_version_160362',\n",
       " 'browser_version_160387',\n",
       " 'dailyAverageTime',\n",
       " 'browser_version_245',\n",
       " 'browser_version_3.5.1',\n",
       " 'browser_version_160326',\n",
       " 'browser_version_160318',\n",
       " 'browser_version_160338',\n",
       " 'hand_held',\n",
       " 'added_in_cart',\n",
       " 'year',\n",
       " 'browser_version_4.3.1',\n",
       " 'browser_version_252',\n",
       " 'browser_version_160393',\n",
       " 'browser_version_4.5.0',\n",
       " 'browser_version_160441',\n",
       " 'others',\n",
       " 'browser_version_160447',\n",
       " 'meanTimePerBrowser',\n",
       " 'browser_version_160379',\n",
       " 'browser_version_160382',\n",
       " 'browser_version_160406',\n",
       " 'browser_version_160309',\n",
       " 'browser_version_160330',\n",
       " 'browser_version_9.0',\n",
       " 'browser_version_160333',\n",
       " 'browser_version_3.4.0',\n",
       " 'browser_version_4.2.0',\n",
       " 'browser_version_4.2.2',\n",
       " 'browser_version_150287',\n",
       " 'device_num_2',\n",
       " 'browser_version_4.0.0',\n",
       " 'meanTimePerDevice',\n",
       " 'browser_version_9.80',\n",
       " 'browser_version_4.1.0',\n",
       " 'browser_version_n/a',\n",
       " 'browser_version_4.0',\n",
       " 'browser_version_4.1.1',\n",
       " 'browser_version_150288',\n",
       " 'browser_version_3.0.1',\n",
       " 'browser_version_3.2.1',\n",
       " 'browser_version_3.3.1',\n",
       " 'browser_version_7.0',\n",
       " 'browser_version_150297',\n",
       " 'browser_version_150282',\n",
       " 'browser_version_150261',\n",
       " 'browser_version_160346',\n",
       " 'browser_version_3.6.0',\n",
       " 'desktop',\n",
       " 'purchased',\n",
       " 'browser_version_8.0',\n",
       " 'browser_version_10.0',\n",
       " 'browser_version_3.6.1',\n",
       " 'browser_version_214',\n",
       " 'dailyTraffic',\n",
       " 'browser_version_6.0',\n",
       " 'dailyTrafficPerbrowser',\n",
       " 'browser_version_244',\n",
       " 'browser_version_160402',\n",
       " 'day']"
      ]
     },
     "execution_count": 15,
     "metadata": {},
     "output_type": "execute_result"
    }
   ],
   "source": [
    "fin_features = list(set(dataset.columns) - set([\"session_id\",\"client_agent\",\"date\",\"device\",\"browser\",\"device_details\",\"time_spent\",\"index\"]))\n",
    "fin_features"
   ]
  },
  {
   "cell_type": "code",
   "execution_count": 16,
   "id": "3c4dfd09",
   "metadata": {
    "execution": {
     "iopub.execute_input": "2024-09-09T14:21:16.050704Z",
     "iopub.status.busy": "2024-09-09T14:21:16.049726Z",
     "iopub.status.idle": "2024-09-09T14:21:16.059475Z",
     "shell.execute_reply": "2024-09-09T14:21:16.058235Z"
    },
    "papermill": {
     "duration": 0.025787,
     "end_time": "2024-09-09T14:21:16.062223",
     "exception": false,
     "start_time": "2024-09-09T14:21:16.036436",
     "status": "completed"
    },
    "tags": []
   },
   "outputs": [],
   "source": [
    "dataset[\"client_agent\"] = dataset[\"client_agent\"].fillna('n/a')"
   ]
  },
  {
   "cell_type": "code",
   "execution_count": 17,
   "id": "3f6e47b6",
   "metadata": {
    "execution": {
     "iopub.execute_input": "2024-09-09T14:21:16.087992Z",
     "iopub.status.busy": "2024-09-09T14:21:16.087564Z",
     "iopub.status.idle": "2024-09-09T14:21:16.100504Z",
     "shell.execute_reply": "2024-09-09T14:21:16.099247Z"
    },
    "papermill": {
     "duration": 0.029176,
     "end_time": "2024-09-09T14:21:16.103300",
     "exception": false,
     "start_time": "2024-09-09T14:21:16.074124",
     "status": "completed"
    },
    "tags": []
   },
   "outputs": [],
   "source": [
    "dftrain, dftest  = dataset[dataset[\"time_spent\"].isnull()==False], dataset[dataset[\"time_spent\"].isnull()==True]\n",
    "dftest.reset_index(drop=True, inplace=True)\n",
    "target = np.log1p(dftrain['time_spent'])"
   ]
  },
  {
   "cell_type": "code",
   "execution_count": 18,
   "id": "907b8147",
   "metadata": {
    "execution": {
     "iopub.execute_input": "2024-09-09T14:21:16.128968Z",
     "iopub.status.busy": "2024-09-09T14:21:16.128544Z",
     "iopub.status.idle": "2024-09-09T14:21:16.502728Z",
     "shell.execute_reply": "2024-09-09T14:21:16.501602Z"
    },
    "papermill": {
     "duration": 0.390209,
     "end_time": "2024-09-09T14:21:16.505499",
     "exception": false,
     "start_time": "2024-09-09T14:21:16.115290",
     "status": "completed"
    },
    "tags": []
   },
   "outputs": [],
   "source": [
    "v_1 = TfidfVectorizer(ngram_range=(1,3),stop_words=\"english\", analyzer='word')\n",
    "typ_tr =v_1.fit_transform(dftrain['client_agent'])\n",
    "typ_ts =v_1.transform(dftest['client_agent'])"
   ]
  },
  {
   "cell_type": "code",
   "execution_count": 19,
   "id": "041293e8",
   "metadata": {
    "execution": {
     "iopub.execute_input": "2024-09-09T14:21:16.531527Z",
     "iopub.status.busy": "2024-09-09T14:21:16.531054Z",
     "iopub.status.idle": "2024-09-09T14:21:19.231573Z",
     "shell.execute_reply": "2024-09-09T14:21:19.230317Z"
    },
    "papermill": {
     "duration": 2.716607,
     "end_time": "2024-09-09T14:21:19.234246",
     "exception": false,
     "start_time": "2024-09-09T14:21:16.517639",
     "status": "completed"
    },
    "tags": []
   },
   "outputs": [
    {
     "name": "stderr",
     "output_type": "stream",
     "text": [
      "/opt/conda/lib/python3.10/site-packages/sklearn/feature_extraction/text.py:550: UserWarning: The parameter 'stop_words' will not be used since 'analyzer' != 'word'\n",
      "  warnings.warn(\n"
     ]
    }
   ],
   "source": [
    "v_1c = TfidfVectorizer(ngram_range=(2,6),stop_words=\"english\", analyzer='char')\n",
    "typ_trc =v_1c.fit_transform(dftrain['client_agent'])\n",
    "typ_tsc =v_1c.transform(dftest['client_agent'])"
   ]
  },
  {
   "cell_type": "code",
   "execution_count": 20,
   "id": "cd416f3f",
   "metadata": {
    "execution": {
     "iopub.execute_input": "2024-09-09T14:21:19.260794Z",
     "iopub.status.busy": "2024-09-09T14:21:19.259786Z",
     "iopub.status.idle": "2024-09-09T14:21:19.620188Z",
     "shell.execute_reply": "2024-09-09T14:21:19.618865Z"
    },
    "papermill": {
     "duration": 0.377094,
     "end_time": "2024-09-09T14:21:19.623378",
     "exception": false,
     "start_time": "2024-09-09T14:21:19.246284",
     "status": "completed"
    },
    "tags": []
   },
   "outputs": [],
   "source": [
    "final_features = sparse.hstack((dftrain[fin_features].astype(float),typ_tr,typ_trc)).tocsr()\n",
    "final_featurest = sparse.hstack((dftest[fin_features].astype(float),typ_ts ,typ_tsc)).tocsr()"
   ]
  },
  {
   "cell_type": "code",
   "execution_count": 21,
   "id": "3688d9b6",
   "metadata": {
    "execution": {
     "iopub.execute_input": "2024-09-09T14:21:19.649235Z",
     "iopub.status.busy": "2024-09-09T14:21:19.648801Z",
     "iopub.status.idle": "2024-09-09T14:21:19.654863Z",
     "shell.execute_reply": "2024-09-09T14:21:19.653695Z"
    },
    "papermill": {
     "duration": 0.021873,
     "end_time": "2024-09-09T14:21:19.657338",
     "exception": false,
     "start_time": "2024-09-09T14:21:19.635465",
     "status": "completed"
    },
    "tags": []
   },
   "outputs": [],
   "source": [
    "def rmsle(real, predicted):\n",
    "    real=np.expm1(real)\n",
    "    predicted=np.expm1(predicted)\n",
    "    return np.sqrt(mean_squared_log_error(real,predicted))\n",
    "    "
   ]
  },
  {
   "cell_type": "code",
   "execution_count": 22,
   "id": "9de6b962",
   "metadata": {
    "execution": {
     "iopub.execute_input": "2024-09-09T14:21:19.683242Z",
     "iopub.status.busy": "2024-09-09T14:21:19.682789Z",
     "iopub.status.idle": "2024-09-09T14:21:19.701754Z",
     "shell.execute_reply": "2024-09-09T14:21:19.700462Z"
    },
    "papermill": {
     "duration": 0.035318,
     "end_time": "2024-09-09T14:21:19.704861",
     "exception": false,
     "start_time": "2024-09-09T14:21:19.669543",
     "status": "completed"
    },
    "tags": []
   },
   "outputs": [],
   "source": [
    "X_trn, X_val, y_trn, y_val = train_test_split(final_features, target, test_size=0.25, random_state=1996)\n",
    "X_test = final_featurest"
   ]
  },
  {
   "cell_type": "code",
   "execution_count": null,
   "id": "141f3c92",
   "metadata": {
    "papermill": {
     "duration": 0.011623,
     "end_time": "2024-09-09T14:21:19.728465",
     "exception": false,
     "start_time": "2024-09-09T14:21:19.716842",
     "status": "completed"
    },
    "tags": []
   },
   "outputs": [],
   "source": []
  },
  {
   "cell_type": "code",
   "execution_count": 23,
   "id": "957a6eba",
   "metadata": {
    "execution": {
     "iopub.execute_input": "2024-09-09T14:21:19.754164Z",
     "iopub.status.busy": "2024-09-09T14:21:19.753729Z",
     "iopub.status.idle": "2024-09-09T14:21:19.760051Z",
     "shell.execute_reply": "2024-09-09T14:21:19.758746Z"
    },
    "papermill": {
     "duration": 0.022506,
     "end_time": "2024-09-09T14:21:19.762795",
     "exception": false,
     "start_time": "2024-09-09T14:21:19.740289",
     "status": "completed"
    },
    "tags": []
   },
   "outputs": [],
   "source": [
    "cb_params={'depth':[2,3],'learning_rate':np.linspace(0.0001,0.001,15),'iterations':[3,4,5,6]}"
   ]
  },
  {
   "cell_type": "code",
   "execution_count": 24,
   "id": "dfc21208",
   "metadata": {
    "execution": {
     "iopub.execute_input": "2024-09-09T14:21:19.789134Z",
     "iopub.status.busy": "2024-09-09T14:21:19.788672Z",
     "iopub.status.idle": "2024-09-09T14:21:19.794402Z",
     "shell.execute_reply": "2024-09-09T14:21:19.793094Z"
    },
    "papermill": {
     "duration": 0.022034,
     "end_time": "2024-09-09T14:21:19.797062",
     "exception": false,
     "start_time": "2024-09-09T14:21:19.775028",
     "status": "completed"
    },
    "tags": []
   },
   "outputs": [],
   "source": [
    "#cb_grid=GridSearchCV(estimator=cb.CatBoostRegressor(verbose=0),param_grid=cb_params,scoring=rmsle,cv=3,verbose=2)"
   ]
  },
  {
   "cell_type": "code",
   "execution_count": 25,
   "id": "7a3074c2",
   "metadata": {
    "execution": {
     "iopub.execute_input": "2024-09-09T14:21:19.823963Z",
     "iopub.status.busy": "2024-09-09T14:21:19.823189Z",
     "iopub.status.idle": "2024-09-09T14:21:19.828645Z",
     "shell.execute_reply": "2024-09-09T14:21:19.827323Z"
    },
    "papermill": {
     "duration": 0.022015,
     "end_time": "2024-09-09T14:21:19.831156",
     "exception": false,
     "start_time": "2024-09-09T14:21:19.809141",
     "status": "completed"
    },
    "tags": []
   },
   "outputs": [],
   "source": [
    "#cb_grid.fit(X_trn,y_trn)"
   ]
  },
  {
   "cell_type": "code",
   "execution_count": 26,
   "id": "3a8b3ab1",
   "metadata": {
    "execution": {
     "iopub.execute_input": "2024-09-09T14:21:19.857250Z",
     "iopub.status.busy": "2024-09-09T14:21:19.856507Z",
     "iopub.status.idle": "2024-09-09T14:21:19.861544Z",
     "shell.execute_reply": "2024-09-09T14:21:19.860397Z"
    },
    "papermill": {
     "duration": 0.020603,
     "end_time": "2024-09-09T14:21:19.863890",
     "exception": false,
     "start_time": "2024-09-09T14:21:19.843287",
     "status": "completed"
    },
    "tags": []
   },
   "outputs": [],
   "source": [
    "#cb_grid.best_params_"
   ]
  },
  {
   "cell_type": "code",
   "execution_count": 27,
   "id": "c85ab3d4",
   "metadata": {
    "execution": {
     "iopub.execute_input": "2024-09-09T14:21:19.890217Z",
     "iopub.status.busy": "2024-09-09T14:21:19.889294Z",
     "iopub.status.idle": "2024-09-09T14:21:19.898469Z",
     "shell.execute_reply": "2024-09-09T14:21:19.897234Z"
    },
    "papermill": {
     "duration": 0.025162,
     "end_time": "2024-09-09T14:21:19.901139",
     "exception": false,
     "start_time": "2024-09-09T14:21:19.875977",
     "status": "completed"
    },
    "tags": []
   },
   "outputs": [],
   "source": [
    "cb_model=cb.CatBoostRegressor(depth=2,iterations=3,learning_rate=0.00001,verbose=0)"
   ]
  },
  {
   "cell_type": "code",
   "execution_count": 28,
   "id": "cbcc84f2",
   "metadata": {
    "execution": {
     "iopub.execute_input": "2024-09-09T14:21:19.927293Z",
     "iopub.status.busy": "2024-09-09T14:21:19.926824Z",
     "iopub.status.idle": "2024-09-09T14:21:20.813667Z",
     "shell.execute_reply": "2024-09-09T14:21:20.812405Z"
    },
    "papermill": {
     "duration": 0.903309,
     "end_time": "2024-09-09T14:21:20.816518",
     "exception": false,
     "start_time": "2024-09-09T14:21:19.913209",
     "status": "completed"
    },
    "tags": []
   },
   "outputs": [
    {
     "data": {
      "text/plain": [
       "<catboost.core.CatBoostRegressor at 0x79d8d145d930>"
      ]
     },
     "execution_count": 28,
     "metadata": {},
     "output_type": "execute_result"
    }
   ],
   "source": [
    "cb_model.fit(X_trn,y_trn)"
   ]
  },
  {
   "cell_type": "code",
   "execution_count": 29,
   "id": "d15233ea",
   "metadata": {
    "execution": {
     "iopub.execute_input": "2024-09-09T14:21:20.843763Z",
     "iopub.status.busy": "2024-09-09T14:21:20.843298Z",
     "iopub.status.idle": "2024-09-09T14:21:20.887297Z",
     "shell.execute_reply": "2024-09-09T14:21:20.886093Z"
    },
    "papermill": {
     "duration": 0.060852,
     "end_time": "2024-09-09T14:21:20.890314",
     "exception": false,
     "start_time": "2024-09-09T14:21:20.829462",
     "status": "completed"
    },
    "tags": []
   },
   "outputs": [],
   "source": [
    "cb_preds=cb_model.predict(X_val)"
   ]
  },
  {
   "cell_type": "code",
   "execution_count": 30,
   "id": "5c1b6986",
   "metadata": {
    "execution": {
     "iopub.execute_input": "2024-09-09T14:21:20.916826Z",
     "iopub.status.busy": "2024-09-09T14:21:20.916337Z",
     "iopub.status.idle": "2024-09-09T14:21:20.926716Z",
     "shell.execute_reply": "2024-09-09T14:21:20.925592Z"
    },
    "papermill": {
     "duration": 0.027043,
     "end_time": "2024-09-09T14:21:20.929570",
     "exception": false,
     "start_time": "2024-09-09T14:21:20.902527",
     "status": "completed"
    },
    "tags": []
   },
   "outputs": [
    {
     "data": {
      "text/plain": [
       "1.7531379857234903"
      ]
     },
     "execution_count": 30,
     "metadata": {},
     "output_type": "execute_result"
    }
   ],
   "source": [
    "np.sqrt(mean_squared_log_error(np.expm1(y_val.values),np.expm1(cb_preds)))"
   ]
  },
  {
   "cell_type": "code",
   "execution_count": 31,
   "id": "a8405138",
   "metadata": {
    "execution": {
     "iopub.execute_input": "2024-09-09T14:21:20.956040Z",
     "iopub.status.busy": "2024-09-09T14:21:20.955584Z",
     "iopub.status.idle": "2024-09-09T14:21:21.008580Z",
     "shell.execute_reply": "2024-09-09T14:21:21.007519Z"
    },
    "papermill": {
     "duration": 0.069483,
     "end_time": "2024-09-09T14:21:21.011376",
     "exception": false,
     "start_time": "2024-09-09T14:21:20.941893",
     "status": "completed"
    },
    "tags": []
   },
   "outputs": [],
   "source": [
    "cb_preds=cb_model.predict(X_test)"
   ]
  },
  {
   "cell_type": "code",
   "execution_count": 32,
   "id": "6b1a0c02",
   "metadata": {
    "execution": {
     "iopub.execute_input": "2024-09-09T14:21:21.038179Z",
     "iopub.status.busy": "2024-09-09T14:21:21.037703Z",
     "iopub.status.idle": "2024-09-09T14:21:21.044174Z",
     "shell.execute_reply": "2024-09-09T14:21:21.042820Z"
    },
    "papermill": {
     "duration": 0.022535,
     "end_time": "2024-09-09T14:21:21.046511",
     "exception": false,
     "start_time": "2024-09-09T14:21:21.023976",
     "status": "completed"
    },
    "tags": []
   },
   "outputs": [],
   "source": [
    "cb_preds_df=pd.DataFrame(data=np.expm1(cb_preds),columns=['time_spent'])"
   ]
  },
  {
   "cell_type": "code",
   "execution_count": 33,
   "id": "b09011d7",
   "metadata": {
    "execution": {
     "iopub.execute_input": "2024-09-09T14:21:21.073526Z",
     "iopub.status.busy": "2024-09-09T14:21:21.072523Z",
     "iopub.status.idle": "2024-09-09T14:21:21.087280Z",
     "shell.execute_reply": "2024-09-09T14:21:21.086055Z"
    },
    "papermill": {
     "duration": 0.031432,
     "end_time": "2024-09-09T14:21:21.090298",
     "exception": false,
     "start_time": "2024-09-09T14:21:21.058866",
     "status": "completed"
    },
    "tags": []
   },
   "outputs": [],
   "source": [
    "cb_preds_df.to_csv('Sample Submission.csv',index=False)"
   ]
  }
 ],
 "metadata": {
  "kaggle": {
   "accelerator": "none",
   "dataSources": [
    {
     "datasetId": 1045190,
     "sourceId": 1758359,
     "sourceType": "datasetVersion"
    }
   ],
   "dockerImageVersionId": 30761,
   "isGpuEnabled": false,
   "isInternetEnabled": true,
   "language": "python",
   "sourceType": "notebook"
  },
  "kernelspec": {
   "display_name": "Python 3",
   "language": "python",
   "name": "python3"
  },
  "language_info": {
   "codemirror_mode": {
    "name": "ipython",
    "version": 3
   },
   "file_extension": ".py",
   "mimetype": "text/x-python",
   "name": "python",
   "nbconvert_exporter": "python",
   "pygments_lexer": "ipython3",
   "version": "3.10.14"
  },
  "papermill": {
   "default_parameters": {},
   "duration": 14.371243,
   "end_time": "2024-09-09T14:21:21.925904",
   "environment_variables": {},
   "exception": null,
   "input_path": "__notebook__.ipynb",
   "output_path": "__notebook__.ipynb",
   "parameters": {},
   "start_time": "2024-09-09T14:21:07.554661",
   "version": "2.6.0"
  }
 },
 "nbformat": 4,
 "nbformat_minor": 5
}
